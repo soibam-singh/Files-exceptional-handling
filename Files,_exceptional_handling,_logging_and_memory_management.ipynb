{
  "nbformat": 4,
  "nbformat_minor": 0,
  "metadata": {
    "colab": {
      "provenance": []
    },
    "kernelspec": {
      "name": "python3",
      "display_name": "Python 3"
    },
    "language_info": {
      "name": "python"
    }
  },
  "cells": [
    {
      "cell_type": "code",
      "execution_count": null,
      "metadata": {
        "id": "RoPXqrjWTd5Y"
      },
      "outputs": [],
      "source": []
    },
    {
      "cell_type": "markdown",
      "source": [
        "1. What is the difference between interpreted and compiled languages?\n",
        "   - Compiled Languages:\n",
        "     - In compiled languages, the source code is translated into machine code (or an intermediate language) by a compiler before it is executed. This machine code is specific to the computer's architecture and is directly executed by the system's CPU.\n",
        "   - Interpreted Languages:\n",
        "     - In interpreted languages, the source code is executed directly by an interpreter line-by-line. The interpreter reads the high-level code and converts it to machine code on the fly, executing it immediately without the need for a separate compilation step.     \n",
        "2. What is exception handling in Python?\n",
        "   - Exception handling in Python refers to the process of catching and managing errors that occur during the execution of a program. It allows the program to handle runtime errors gracefully, rather than crashing, and enables the programmer to take appropriate actions when an error occurs.   \n",
        "3. What is the purpose of the finally block in exception handling?\n",
        "   - The finally block in exception handling in Python is used to define code that must always be executed, regardless of whether an exception occurred or not. This is particularly useful for performing cleanup actions or finalization tasks after a try-except block has been executed.\n",
        "4. What is logging in Python?\n",
        "   - Logging in Python refers to the practice of recording events, messages, or errors that occur during the execution of a program. It helps developers track the behavior of an application, debug issues, and monitor the application's performance. Unlike print() statements, which are generally used for quick debugging or output, logging offers more flexibility, such as different log levels, timestamps, output formats, and the ability to log to files, consoles, or external systems.\n",
        "5. What is the significance of the __del__ method in Python?\n",
        "   - The __del__ method in Python is a special method known as a destructor. It is automatically called when an object is about to be destroyed or garbage collected, i.e., when there are no more references to the object and Python's garbage collector deems it ready for cleanup.\n",
        "6. What is the difference between import and from ... import in Python?\n",
        "   - import:\n",
        "     - The import statement is used to bring an entire module into your current script. When you use import, you need to refer to the module by its full name (i.e., module_name.something) when accessing any of its contents.\n",
        "     - import math  # Importing the entire math module     \n",
        "     print(math.sqrt(16))  # Using math.sqrt() to find square root  \n",
        "     print(math.pi)        # Accessing the constant math.pi\n",
        "  - from ... import:\n",
        "    - The from ... import statement allows you to import specific parts (such as functions, classes, or variables) of a module directly into your script. This way, you can use the imported items without needing to prefix them with the module name.\n",
        "    - from math import sqrt, pi  # Importing specific functions and\n",
        "      variables from math        \n",
        "      print(sqrt(16))  # No need to use 'math.sqrt()'\n",
        "      print(pi)        # No need to use 'math.pi'\n",
        "\n",
        "7. How can you handle multiple exceptions in Python?\n",
        "  - Catching Multiple Exceptions in One except Block (Tuple Approach)\n",
        "  -  Using Multiple except Blocks (Different Blocks for Different Exceptions)\n",
        "  - Catching All Exceptions (Generic except)\n",
        "  - Handling Exceptions with Different Actions (Multiple Blocks with Custom Handling)\n",
        "  - Using else with try-except to Handle Non-Exceptions\n",
        "8. What is the purpose of the with statement when handling files in Python?\n",
        "   - The with statement in Python is used to simplify the management of resources, such as files, ensuring that they are properly acquired and released. When working with files, the with statement automatically handles opening and closing the file, even if an exception occurs within the block. This prevents resource leaks and reduces the need for manual cleanup.\n",
        "9. What is the difference between multithreading and multiprocessing?\n",
        "   - Multithreading:\n",
        "     - Multithreading refers to the execution of multiple threads within a single process. A thread is a smaller unit of a process, and multithreading allows the CPU to switch between threads within the same process, executing them concurrently.\n",
        "     - Threads within the same process share the same memory space and resources, which means they can communicate easily but also must be careful about thread synchronization to avoid conflicts (e.g., race conditions).\n",
        "     - It provides concurrency, which means tasks can be executed seemingly simultaneously (but may not actually run simultaneously, depending on the number of available CPU cores).\n",
        "     - Due to the Global Interpreter Lock (GIL) in Python, only one thread can execute Python bytecode at a time. This means that Python threads are not truly parallel in CPU-bound tasks but can be beneficial for I/O-bound tasks (like file operations, web requests, etc.).\n",
        "     - Best suited for I/O-bound tasks (e.g., reading/writing to files, network requests, web scraping).\n",
        "  - Multiprocessing:\n",
        "    - Multiprocessing refers to the use of multiple processes, where each process runs in its own memory space. Each process is independent and can run on a separate CPU core, achieving true parallelism.  \n",
        "    - Each process in multiprocessing has its own memory space, and they run independently of each other. This enables true parallelism since processes can run on different CPU cores.\n",
        "    - There is no GIL in multiprocessing, so CPU-bound tasks (which require heavy computation) benefit from multiprocessing since they can run simultaneously on multiple cores, fully utilizing the hardware.\n",
        "    - However, inter-process communication (IPC) is more complex and slower compared to threads since they don't share memory directly.\n",
        "    - Best suited for CPU-bound tasks (e.g., mathematical computations, image processing, data analysis) where parallel execution across multiple CPU cores can significantly improve performance.    \n",
        "10. What are the advantages of using logging in a program?\n",
        "    - Debugging and Troubleshooting\n",
        "    - Audit Trails and Monitoring\n",
        "    - Granular Control of Logging Output\n",
        "    - Centralized Logging\n",
        "11. What is memory management in Python?\n",
        "    - Python uses a private heap to store all Python objects and data structures.\n",
        "    - The Python memory manager handles the allocation and deallocation of memory within this heap.\n",
        "    - Python keeps track of how many times an object is referenced.\n",
        "    - When the reference count of an object drops to zero, it means the object is no longer accessible and can be safely deallocated.\n",
        "    - Python employs a garbage collector to reclaim memory occupied by objects that are no longer reachable, even if their reference count is not zero.\n",
        "    - This helps prevent memory leaks and ensures efficient memory utilization.\n",
        "12. What are the basic steps involved in exception handling in Python?\n",
        "    - Try Block (Code That Might Raise an Exception)\n",
        "    - Except Block (Handling the Exception)\n",
        "    - Else Block (Optional)\n",
        "    - Finally Block (Optional)\n",
        "13. Why is memory management important in Python?\n",
        "    - Prevents Memory Leaks: Ensures that memory is reclaimed when objects are no longer in use.\n",
        "    - Improves Performance: Reduces system overhead and fragmentation, improving program speed.\n",
        "    - Supports Large Data Handling: Makes it easier to process large datasets without running out of memory.\n",
        "    - Ensures Stability and Scalability: Allows programs to scale efficiently and maintain stability as they grow.\n",
        "    - Facilitates Debugging: Enables you to identify and resolve memory-related issues using profiling tools.\n",
        "    - Reduces Developer Workload: Automatic garbage collection helps reduce the need for manual memory management.\n",
        "14. What is the role of try and except in exception handling?\n",
        "    - In Python, try and except blocks play a fundamental role in exception handling. They allow the program to manage errors gracefully and continue execution even when an exception (error) occurs. Let’s break down the roles of try and except in exception handling:\n",
        "    - The try block is where you write the code that might raise an exception.\n",
        "    - The except block is used to catch and handle exceptions that occur in the try block.\n",
        "15. How does Python's garbage collection system work?\n",
        "    - Python's garbage collection system is designed to automatically manage memory, reclaim unused memory, and prevent memory leaks. It primarily uses reference counting and generational garbage collection to achieve this.\n",
        "16. What is the purpose of the else block in exception handling?\n",
        "    - The else block in exception handling in Python is used to define code that should run if no exceptions are raised in the associated try block. It is placed after the except blocks, and its primary purpose is to execute code that depends on the successful execution of the try block. If no exceptions occur during the execution of the try block, the code inside the else block will be executed.\n",
        "17. What are the common logging levels in Python?\n",
        "    - CRITICAL (50)\n",
        "    - ERROR (40)\n",
        "    - WARNING (30)\n",
        "    - INFO (20)\n",
        "    - DEBUG (10)\n",
        "    - NOTSET (0)\n",
        "18. What is the difference between os.fork() and multiprocessing in Python?\n",
        "    - os.fork() is a system call available in Python that creates a child process by duplicating the current (parent) process. It is a lower-level way to create new processes and is available only on Unix-like operating systems (Linux, macOS).\n",
        "    - The multiprocessing module is a high-level Python library for creating and managing parallel processes. It provides a more Pythonic, abstracted way of creating and managing separate processes in a cross-platform manner.\n",
        "\n",
        "19. What is the importance of closing a file in Python?\n",
        "    - Releasing System Resources\n",
        "    - Ensuring Data Integrity\n",
        "    - Preventing Data Corruption\n",
        "    - Improved Program Performance\n",
        "    - Avoiding Potential File Locks\n",
        "20. What is the difference between file.read() and file.readline() in Python?\n",
        "    -  file.read()\n",
        "       - Reads the entire content of the file as a single string.\n",
        "    - file.readline()\n",
        "      - Reads one line at a time from the file.\n",
        "21. What is the logging module in Python used for?\n",
        "    - import logging\n",
        "22. What is the os module in Python used for in file handling?\n",
        "    - import os\n",
        "23. What are the challenges associated with memory management in Python?\n",
        "    - Automatic Garbage Collection\n",
        "    - Reference Counting\n",
        "    - Memory Fragmentation\n",
        "    - Large Objects and Memory Consumption\n",
        "    - Memory Leaks\n",
        "    - Memory Usage of Immutable Objects\n",
        "    - Python’s Memory Model and Multi-threading\n",
        "    - Dealing with Large Datasets (Streaming vs. Loading into Memory)\n",
        "24. How do you raise an exception manually in Python?\n",
        "    - raise ExceptionType(\"Error message\")\n",
        "25. Why is it important to use multithreading in certain applications?\n",
        "    - Improved Responsiveness and User Experience\n",
        "    - Concurrency in I/O-bound Operations\n",
        "    - Efficient Use of Multicore Processors\n",
        "    - Time-Saving in Blocking Operations\n",
        "    - Handling Multiple Independent Tasks Simultaneously\n",
        "    - Real-Time and Concurrent Systems\n",
        "    - Simplifying Complex Applications"
      ],
      "metadata": {
        "id": "wr4JJJIDUYTZ"
      }
    },
    {
      "cell_type": "code",
      "source": [
        "# 1. How can you open a file for writing in Python and write a string to it\n",
        "\n",
        "# Open the file in write mode ('w')\n",
        "with open(\"example.txt\", \"w\") as file:\n",
        "    # Write a string to the file\n",
        "    file.write(\"Hello, this is a test string!\")\n",
        "\n",
        "# The 'with' statement ensures that the file is automatically closed after writing\n",
        "# Open the file in write mode ('w')\n",
        "with open(\"example.txt\", \"w\") as file:\n",
        "    # Write a string to the file\n",
        "    file.write(\"Hello, this is a test string!\")\n",
        "\n",
        "# The 'with' statement ensures that the file is automatically closed after writing\n"
      ],
      "metadata": {
        "id": "Rw5yqdvtVt3E"
      },
      "execution_count": 2,
      "outputs": []
    },
    {
      "cell_type": "code",
      "source": [
        "# 2. Write a Python program to read the contents of a file and print each line. How would you handle a case where the file doesn't exist while trying to open it for reading\n",
        "\n",
        "def read_file_and_print_lines(filename):\n",
        "  \"\"\"\n",
        "  Reads the contents of a file and prints each line.\n",
        "\n",
        "  Args:\n",
        "    filename: The name of the file to read.\n",
        "\n",
        "  Raises:\n",
        "    FileNotFoundError: If the file does not exist.\n",
        "  \"\"\"\n",
        "  try:\n",
        "    with open(filename, 'r') as file:\n",
        "      for line in file:\n",
        "        print(line.strip())\n",
        "  except FileNotFoundError:\n",
        "    print(f\"Error: File '{filename}' not found.\")\n",
        "\n",
        "# Example usage:\n",
        "filename = \"my_file.txt\"\n",
        "read_file_and_print_lines(filename)\n"
      ],
      "metadata": {
        "id": "sR-q7tPrV96c",
        "colab": {
          "base_uri": "https://localhost:8080/"
        },
        "outputId": "04241369-d040-4a67-9a02-835c9e83b57b"
      },
      "execution_count": 3,
      "outputs": [
        {
          "output_type": "stream",
          "name": "stdout",
          "text": [
            "Error: File 'my_file.txt' not found.\n"
          ]
        }
      ]
    },
    {
      "cell_type": "code",
      "source": [
        "# 3. Write a Python script that reads from one file and writes its content to another file\n",
        "\n",
        "def copy_file(source_file, destination_file):\n",
        "  \"\"\"\n",
        "  Copies the contents of one file to another.\n",
        "\n",
        "  Args:\n",
        "    source_file: The path to the file to be read.\n",
        "    destination_file: The path to the file to be written to.\n",
        "  \"\"\"\n",
        "  try:\n",
        "    with open(source_file, 'r') as source, open(destination_file, 'w') as destination:\n",
        "      for line in source:\n",
        "        destination.write(line)\n",
        "    print(f\"File '{source_file}' copied successfully to '{destination_file}'\")\n",
        "  except FileNotFoundError:\n",
        "    print(f\"Error: Source file '{source_file}' not found.\")\n",
        "\n",
        "# Example usage:\n",
        "source_filename = \"example.txt\"\n",
        "destination_filename = \"output.txt\"\n",
        "copy_file(source_filename, destination_filename)"
      ],
      "metadata": {
        "id": "qqbuuL6mWSOL",
        "colab": {
          "base_uri": "https://localhost:8080/"
        },
        "outputId": "4fd1eb0b-0630-4cfb-96a8-f7ee0c21e13f"
      },
      "execution_count": 5,
      "outputs": [
        {
          "output_type": "stream",
          "name": "stdout",
          "text": [
            "File 'example.txt' copied successfully to 'output.txt'\n"
          ]
        }
      ]
    },
    {
      "cell_type": "code",
      "source": [
        "# 4. How would you catch and handle division by zero error in Python\n",
        "\n",
        "def safe_division(numerator, denominator):\n",
        "  \"\"\"\n",
        "  Performs division with handling of ZeroDivisionError.\n",
        "\n",
        "  Args:\n",
        "    numerator: The dividend.\n",
        "    denominator: The divisor.\n",
        "\n",
        "  Returns:\n",
        "    The result of the division if successful,\n",
        "    otherwise a message indicating division by zero.\n",
        "  \"\"\"\n",
        "  try:\n",
        "    result = numerator / denominator\n",
        "  except ZeroDivisionError:\n",
        "    result = \"Cannot divide by zero\"\n",
        "  return result\n",
        "\n",
        "# Example usage:\n",
        "num1 = 10\n",
        "num2 = 0\n",
        "\n",
        "result = safe_division(num1, num2)\n",
        "print(result)  # Output: Cannot divide by zero"
      ],
      "metadata": {
        "id": "nrVCROSPWV77",
        "colab": {
          "base_uri": "https://localhost:8080/"
        },
        "outputId": "eb5c0087-293c-4ad4-a9c2-d3c210d7bc9c"
      },
      "execution_count": 6,
      "outputs": [
        {
          "output_type": "stream",
          "name": "stdout",
          "text": [
            "Cannot divide by zero\n"
          ]
        }
      ]
    },
    {
      "cell_type": "code",
      "source": [
        "# 5. Write a Python program that logs an error message to a log file when a division by zero exception occurs\n",
        "import logging\n",
        "\n",
        "def log_division_error(numerator, denominator):\n",
        "  \"\"\"\n",
        "  Performs division and logs a division by zero error to a file.\n",
        "\n",
        "  Args:\n",
        "    numerator: The dividend.\n",
        "    denominator: The divisor.\n",
        "\n",
        "  Returns:\n",
        "    The result of the division if successful,\n",
        "    otherwise None.\n",
        "  \"\"\"\n",
        "  try:\n",
        "    result = numerator / denominator\n",
        "    return result\n",
        "  except ZeroDivisionError as e:\n",
        "    logging.exception(f\"Division by zero error occurred: {e}\")\n",
        "    return None\n",
        "\n",
        "# Configure logging\n",
        "logging.basicConfig(filename='error.log', level=logging.ERROR,\n",
        "                    format='%(asctime)s - %(levelname)s - %(message)s')\n",
        "\n",
        "# Example usage:\n",
        "num1 = 10\n",
        "num2 = 0\n",
        "\n",
        "result = log_division_error(num1, num2)\n",
        "\n",
        "if result is None:\n",
        "  print(\"Division by zero occurred. Check the log file for details.\")\n",
        "else:\n",
        "  print(f\"Result of division: {result}\")"
      ],
      "metadata": {
        "id": "DT1fk_nHWZfT",
        "colab": {
          "base_uri": "https://localhost:8080/"
        },
        "outputId": "84136000-6969-4120-9598-899c93d26e5d"
      },
      "execution_count": 7,
      "outputs": [
        {
          "output_type": "stream",
          "name": "stderr",
          "text": [
            "ERROR:root:Division by zero error occurred: division by zero\n",
            "Traceback (most recent call last):\n",
            "  File \"<ipython-input-7-9998382c4c49>\", line 17, in log_division_error\n",
            "    result = numerator / denominator\n",
            "ZeroDivisionError: division by zero\n"
          ]
        },
        {
          "output_type": "stream",
          "name": "stdout",
          "text": [
            "Division by zero occurred. Check the log file for details.\n"
          ]
        }
      ]
    },
    {
      "cell_type": "code",
      "source": [
        "# 6. How do you log information at different levels (INFO, ERROR, WARNING) in Python using the logging module\n",
        "import logging\n",
        "\n",
        "# Configure logging\n",
        "logging.basicConfig(filename='my_log.log', level=logging.DEBUG,\n",
        "                    format='%(asctime)s - %(levelname)s - %(message)s')\n",
        "\n",
        "# Create a logger\n",
        "logger = logging.getLogger(__name__)\n",
        "\n",
        "def my_function():\n",
        "    logger.debug(\"Debug message\")\n",
        "    logger.info(\"Info message\")\n",
        "    logger.warning(\"Warning message\")\n",
        "    try:\n",
        "        10 / 0\n",
        "    except ZeroDivisionError:\n",
        "        logger.error(\"Error: Division by zero\")\n",
        "    logger.critical(\"Critical message\")\n",
        "\n",
        "if __name__ == \"__main__\":\n",
        "    my_function()"
      ],
      "metadata": {
        "id": "cicGcxhLWlrd",
        "colab": {
          "base_uri": "https://localhost:8080/"
        },
        "outputId": "f976eaa7-8750-4c5e-bd55-aac31625c7c3"
      },
      "execution_count": 8,
      "outputs": [
        {
          "output_type": "stream",
          "name": "stderr",
          "text": [
            "WARNING:__main__:Warning message\n",
            "ERROR:__main__:Error: Division by zero\n",
            "CRITICAL:__main__:Critical message\n"
          ]
        }
      ]
    },
    {
      "cell_type": "code",
      "source": [
        "# 7. Write a program to handle a file opening error using exception handling\n",
        "\n",
        "def read_file_with_error_handling(filename):\n",
        "  \"\"\"\n",
        "  Reads the contents of a file and handles potential errors.\n",
        "\n",
        "  Args:\n",
        "    filename: The name of the file to read.\n",
        "\n",
        "  Returns:\n",
        "    The contents of the file as a string, or an error message.\n",
        "  \"\"\"\n",
        "  try:\n",
        "    with open(filename, 'r') as file:\n",
        "      return file.read()\n",
        "  except FileNotFoundError:\n",
        "    return f\"Error: File '{filename}' not found.\"\n",
        "  except IOError as e:\n",
        "    return f\"Error: An I/O error occurred while reading '{filename}': {e}\"\n",
        "  except Exception as e:\n",
        "    return f\"Error: An unexpected error occurred: {e}\"\n",
        "\n",
        "# Example usage:\n",
        "filename = \"my_file.txt\"\n",
        "file_contents = read_file_with_error_handling(filename)\n",
        "print(file_contents)"
      ],
      "metadata": {
        "id": "t0SkrdlgWxnk",
        "colab": {
          "base_uri": "https://localhost:8080/"
        },
        "outputId": "6ef6d9b5-2169-46e7-e1c6-fd9a526f7bef"
      },
      "execution_count": 9,
      "outputs": [
        {
          "output_type": "stream",
          "name": "stdout",
          "text": [
            "Error: File 'my_file.txt' not found.\n"
          ]
        }
      ]
    },
    {
      "cell_type": "code",
      "source": [
        "# 8. How can you read a file line by line and store its content in a list in Python\n",
        "\n",
        "def read_file_to_list(filename):\n",
        "  \"\"\"\n",
        "  Reads a file line by line and stores its content in a list.\n",
        "\n",
        "  Args:\n",
        "    filename: The name of the file to read.\n",
        "\n",
        "  Returns:\n",
        "    A list containing the lines of the file.\n",
        "  \"\"\"\n",
        "  try:\n",
        "    with open(filename, 'r') as file:\n",
        "      lines = file.readlines()\n",
        "      return [line.strip() for line in lines]\n",
        "  except FileNotFoundError:\n",
        "    print(f\"Error: File '{filename}' not found.\")\n",
        "    return []\n",
        "\n",
        "# Example usage:\n",
        "filename = \"example.txt\"\n",
        "lines = read_file_to_list(filename)\n",
        "\n",
        "if lines:\n",
        "  print(\"File contents:\")\n",
        "  for line in lines:\n",
        "    print(line)\n"
      ],
      "metadata": {
        "id": "kVXg_6ocWzJF",
        "colab": {
          "base_uri": "https://localhost:8080/"
        },
        "outputId": "4b7de3bc-b805-4b72-832e-df00641b4751"
      },
      "execution_count": 10,
      "outputs": [
        {
          "output_type": "stream",
          "name": "stdout",
          "text": [
            "File contents:\n",
            "Hello, this is a test string!\n"
          ]
        }
      ]
    },
    {
      "cell_type": "code",
      "source": [
        "# 9. How can you append data to an existing file in Python\n",
        "\n",
        "def append_to_file(filename, data):\n",
        "  \"\"\"\n",
        "  Appends data to an existing file.\n",
        "\n",
        "  Args:\n",
        "    filename: The name of the file to append to.\n",
        "    data: The data to be appended to the file.\n",
        "  \"\"\"\n",
        "  try:\n",
        "    with open(filename, 'a') as file:\n",
        "      file.write(data + '\\n')  # Append data with a newline character\n",
        "    print(f\"Data appended successfully to '{filename}'\")\n",
        "  except IOError as e:\n",
        "    print(f\"An I/O error occurred: {e}\")\n",
        "\n",
        "# Example usage:\n",
        "filename = \"example.txt\"\n",
        "data_to_append = \"This is new data.\"\n",
        "\n",
        "append_to_file(filename, data_to_append)"
      ],
      "metadata": {
        "id": "-lMf5XcQW2A1",
        "colab": {
          "base_uri": "https://localhost:8080/"
        },
        "outputId": "0723ea3b-fb95-4590-985d-cb6b71018d28"
      },
      "execution_count": 11,
      "outputs": [
        {
          "output_type": "stream",
          "name": "stdout",
          "text": [
            "Data appended successfully to 'example.txt'\n"
          ]
        }
      ]
    },
    {
      "cell_type": "code",
      "source": [
        "# 10. Write a Python program that uses a try-except block to handle an error when attempting to access a\n",
        "# dictionary key that doesn't exist\n",
        "def safe_dict_access(dictionary, key):\n",
        "  \"\"\"\n",
        "  Safely accesses a value in a dictionary.\n",
        "\n",
        "  Args:\n",
        "    dictionary: The dictionary to access.\n",
        "    key: The key to look for in the dictionary.\n",
        "\n",
        "  Returns:\n",
        "    The value associated with the key if it exists,\n",
        "    otherwise None.\n",
        "  \"\"\"\n",
        "  try:\n",
        "    return dictionary[key]\n",
        "  except KeyError:\n",
        "    print(f\"Key '{key}' not found in the dictionary.\")\n",
        "    return None\n",
        "\n",
        "# Example usage:\n",
        "my_dict = {'a': 1, 'b': 2}\n",
        "key_to_find = 'c'\n",
        "\n",
        "value = safe_dict_access(my_dict, key_to_find)\n",
        "print(value)  # Output: None"
      ],
      "metadata": {
        "id": "ir4-VzJ_W4_9",
        "colab": {
          "base_uri": "https://localhost:8080/"
        },
        "outputId": "dc042da1-844c-4d20-f0e8-8a12824a752d"
      },
      "execution_count": 12,
      "outputs": [
        {
          "output_type": "stream",
          "name": "stdout",
          "text": [
            "Key 'c' not found in the dictionary.\n",
            "None\n"
          ]
        }
      ]
    },
    {
      "cell_type": "code",
      "source": [
        "# 11. Write a program that demonstrates using multiple except blocks to handle different types of exceptions\n",
        "def divide_numbers(numerator, denominator):\n",
        "  \"\"\"\n",
        "  Divides two numbers and handles different exceptions.\n",
        "\n",
        "  Args:\n",
        "    numerator: The dividend.\n",
        "    denominator: The divisor.\n",
        "\n",
        "  Returns:\n",
        "    The result of the division if successful,\n",
        "    otherwise an error message.\n",
        "  \"\"\"\n",
        "  try:\n",
        "    result = numerator / denominator\n",
        "    return result\n",
        "  except ZeroDivisionError:\n",
        "    return \"Error: Division by zero\"\n",
        "  except TypeError:\n",
        "    return \"Error: Invalid data type for numerator or denominator\"\n",
        "  except Exception as e:\n",
        "    return f\"An unexpected error occurred: {e}\"\n",
        "\n",
        "# Example usage:\n",
        "num1 = 10\n",
        "num2 = 0\n",
        "\n",
        "result = divide_numbers(num1, num2)\n",
        "print(result)  # Output: Error: Division by zero\n",
        "\n",
        "result = divide_numbers(\"10\", 2)\n",
        "print(result)  # Output: Error: Invalid data type for numerator or denominator"
      ],
      "metadata": {
        "id": "gfQnc1TVW9P9",
        "colab": {
          "base_uri": "https://localhost:8080/"
        },
        "outputId": "ec24f2fa-87fe-432d-b280-b4a70a868d50"
      },
      "execution_count": 13,
      "outputs": [
        {
          "output_type": "stream",
          "name": "stdout",
          "text": [
            "Error: Division by zero\n",
            "Error: Invalid data type for numerator or denominator\n"
          ]
        }
      ]
    },
    {
      "cell_type": "code",
      "source": [
        "# 12. How would you check if a file exists before attempting to read it in Python\n",
        "import os\n",
        "\n",
        "def read_file_if_exists(filename):\n",
        "  \"\"\"\n",
        "  Reads the contents of a file if it exists.\n",
        "\n",
        "  Args:\n",
        "    filename: The name of the file to read.\n",
        "\n",
        "  Returns:\n",
        "    The contents of the file as a string if the file exists,\n",
        "    otherwise None.\n",
        "  \"\"\"\n",
        "  if os.path.isfile(filename):\n",
        "    try:\n",
        "      with open(filename, 'r') as file:\n",
        "        return file.read()\n",
        "    except IOError as e:\n",
        "      print(f\"Error reading file '{filename}': {e}\")\n",
        "      return None\n",
        "  else:\n",
        "    print(f\"File '{filename}' not found.\")\n",
        "    return None\n",
        "\n",
        "# Example usage:\n",
        "filename = \"example.txt\"\n",
        "file_contents = read_file_if_exists(filename)\n",
        "\n",
        "if file_contents:\n",
        "  print(file_contents)"
      ],
      "metadata": {
        "id": "q67Zt_AzXAtc",
        "colab": {
          "base_uri": "https://localhost:8080/"
        },
        "outputId": "454c47b0-36be-4a18-c721-381a85e906c7"
      },
      "execution_count": 15,
      "outputs": [
        {
          "output_type": "stream",
          "name": "stdout",
          "text": [
            "Hello, this is a test string!This is new data.\n",
            "\n"
          ]
        }
      ]
    },
    {
      "cell_type": "code",
      "source": [
        "# 13. Write a program that uses the logging module to log both informational and error messages\n",
        "import logging\n",
        "\n",
        "# Configure logging\n",
        "logging.basicConfig(filename='my_log.log', level=logging.DEBUG,\n",
        "                    format='%(asctime)s - %(levelname)s - %(message)s')\n",
        "\n",
        "def divide_numbers(numerator, denominator):\n",
        "  \"\"\"\n",
        "  Divides two numbers and logs information and errors.\n",
        "\n",
        "  Args:\n",
        "    numerator: The dividend.\n",
        "    denominator: The divisor.\n",
        "\n",
        "  Returns:\n",
        "    The result of the division if successful,\n",
        "    otherwise None.\n",
        "  \"\"\"\n",
        "  logger = logging.getLogger(__name__)\n",
        "  logger.info(f\"Dividing {numerator} by {denominator}\")\n",
        "  try:\n",
        "    result = numerator / denominator\n",
        "    logger.info(f\"Division successful: {numerator} / {denominator} = {result}\")\n",
        "    return result\n",
        "  except ZeroDivisionError:\n",
        "    logger.error(\"Error: Division by zero\")\n",
        "    return None\n",
        "\n",
        "# Example usage:\n",
        "num1 = 10\n",
        "num2 = 0\n",
        "\n",
        "result = divide_numbers(num1, num2)\n",
        "\n",
        "if result is None:\n",
        "  print(\"Division by zero occurred. Check the log file for details.\")\n",
        "else:\n",
        "  print(f\"Result of division: {result}\")"
      ],
      "metadata": {
        "id": "V8c4dd_aXEc8",
        "colab": {
          "base_uri": "https://localhost:8080/"
        },
        "outputId": "d34c62f2-e164-4a03-ca07-63038030cad6"
      },
      "execution_count": 16,
      "outputs": [
        {
          "output_type": "stream",
          "name": "stderr",
          "text": [
            "ERROR:__main__:Error: Division by zero\n"
          ]
        },
        {
          "output_type": "stream",
          "name": "stdout",
          "text": [
            "Division by zero occurred. Check the log file for details.\n"
          ]
        }
      ]
    },
    {
      "cell_type": "code",
      "source": [
        "# 14. Write a Python program that prints the content of a file and handles the case when the file is empty\n",
        "import os\n",
        "\n",
        "def print_file_content(filename):\n",
        "  \"\"\"\n",
        "  Prints the content of a file. Handles empty files gracefully.\n",
        "\n",
        "  Args:\n",
        "    filename: The name of the file to read.\n",
        "  \"\"\"\n",
        "  try:\n",
        "    with open(filename, 'r') as file:\n",
        "      file_content = file.read()\n",
        "      if file_content:\n",
        "        print(file_content)\n",
        "      else:\n",
        "        print(f\"The file '{filename}' is empty.\")\n",
        "  except FileNotFoundError:\n",
        "    print(f\"Error: File '{filename}' not found.\")\n",
        "\n",
        "# Example usage:\n",
        "filename = \"example.txt\"\n",
        "print_file_content(filename)"
      ],
      "metadata": {
        "id": "5AYfEFQvXH7l",
        "colab": {
          "base_uri": "https://localhost:8080/"
        },
        "outputId": "ff1760ca-7f68-4db9-892d-30d89d098a41"
      },
      "execution_count": 17,
      "outputs": [
        {
          "output_type": "stream",
          "name": "stdout",
          "text": [
            "Hello, this is a test string!This is new data.\n",
            "\n"
          ]
        }
      ]
    },
    {
      "cell_type": "code",
      "source": [
        "pip install memory_profiler"
      ],
      "metadata": {
        "colab": {
          "base_uri": "https://localhost:8080/"
        },
        "id": "5Th9uIirJTMq",
        "outputId": "88f2394c-2c66-4fd9-b22a-9f51ad3d173b"
      },
      "execution_count": 27,
      "outputs": [
        {
          "output_type": "stream",
          "name": "stdout",
          "text": [
            "Requirement already satisfied: memory_profiler in /usr/local/lib/python3.10/dist-packages (0.61.0)\n",
            "Requirement already satisfied: psutil in /usr/local/lib/python3.10/dist-packages (from memory_profiler) (5.9.5)\n"
          ]
        }
      ]
    },
    {
      "cell_type": "code",
      "source": [
        "# 15. Demonstrate how to use memory profiling to check the memory usage of a small program\n",
        "# Importing the memory profiler\n",
        "from memory_profiler import profile\n",
        "\n",
        "# Use the @profile decorator to monitor the memory usage of the function\n",
        "@profile\n",
        "def my_function():\n",
        "    a = [i for i in range(10000)]  # Creating a large list\n",
        "    b = [i**2 for i in range(10000)]  # Creating another large list\n",
        "    del b  # Deleting the second list\n",
        "    return a\n",
        "\n",
        "# Running the function\n",
        "if __name__ == \"__main__\":\n",
        "    my_function()\n"
      ],
      "metadata": {
        "id": "7LVLL-CoXLPt",
        "colab": {
          "base_uri": "https://localhost:8080/"
        },
        "outputId": "d8666a9d-64b3-4a9c-dea8-28fd2ef335ad"
      },
      "execution_count": 23,
      "outputs": [
        {
          "output_type": "stream",
          "name": "stdout",
          "text": [
            "ERROR: Could not find file <ipython-input-23-958c33c513b3>\n",
            "NOTE: %mprun can only be used on functions defined in physical files, and not in the IPython environment.\n"
          ]
        }
      ]
    },
    {
      "cell_type": "code",
      "source": [
        "# 16. Write a Python program to create and write a list of numbers to a file, one number per line\n",
        "def write_list_to_file(filename, number_list):\n",
        "  \"\"\"\n",
        "  Writes a list of numbers to a file, one number per line.\n",
        "\n",
        "  Args:\n",
        "    filename: The name of the file to write to.\n",
        "    number_list: The list of numbers to write.\n",
        "  \"\"\"\n",
        "  try:\n",
        "    with open(filename, 'w') as file:\n",
        "      for number in number_list:\n",
        "        file.write(str(number) + '\\n')\n",
        "    print(f\"Successfully wrote numbers to '{filename}'\")\n",
        "  except IOError as e:\n",
        "    print(f\"An I/O error occurred: {e}\")\n",
        "\n",
        "# Example usage:\n",
        "my_numbers = [1, 2, 3, 4, 5, 10, 20, 50]\n",
        "output_file = \"numbers.txt\"\n",
        "write_list_to_file(output_file, my_numbers)"
      ],
      "metadata": {
        "id": "qWdLqZrMXSWT",
        "colab": {
          "base_uri": "https://localhost:8080/"
        },
        "outputId": "22b71a76-38df-4247-8db8-6885e250acc6"
      },
      "execution_count": 24,
      "outputs": [
        {
          "output_type": "stream",
          "name": "stdout",
          "text": [
            "Successfully wrote numbers to 'numbers.txt'\n"
          ]
        }
      ]
    },
    {
      "cell_type": "code",
      "source": [
        "# 17. How would you implement a basic logging setup that logs to a file with rotation after 1MB\n",
        "import logging\n",
        "from logging.handlers import RotatingFileHandler\n",
        "\n",
        "# Configure logging\n",
        "logger = logging.getLogger(__name__)\n",
        "logger.setLevel(logging.INFO)\n",
        "\n",
        "# Create a rotating file handler\n",
        "handler = RotatingFileHandler('my_app.log', maxBytes=1024*1024, backupCount=5)  # 1MB per file, 5 backups\n",
        "formatter = logging.Formatter('%(asctime)s - %(name)s - %(levelname)s - %(message)s')\n",
        "handler.setFormatter(formatter)\n",
        "\n",
        "# Add the handler to the logger\n",
        "logger.addHandler(handler)\n",
        "\n",
        "# Example usage\n",
        "logger.info(\"This is an informational message.\")\n",
        "logger.warning(\"This is a warning message.\")\n",
        "logger.error(\"This is an error message.\")"
      ],
      "metadata": {
        "id": "liUvwHxUXVXP",
        "colab": {
          "base_uri": "https://localhost:8080/"
        },
        "outputId": "ca345d6b-254b-446f-f105-69c4c8694c7f"
      },
      "execution_count": 25,
      "outputs": [
        {
          "output_type": "stream",
          "name": "stderr",
          "text": [
            "INFO:__main__:This is an informational message.\n",
            "WARNING:__main__:This is a warning message.\n",
            "ERROR:__main__:This is an error message.\n"
          ]
        }
      ]
    },
    {
      "cell_type": "code",
      "source": [
        "# 18. Write a program that handles both IndexError and KeyError using a try-except block\n",
        "def safe_access(data_structure, index_or_key):\n",
        "  \"\"\"\n",
        "  Safely accesses an element in a list or dictionary.\n",
        "\n",
        "  Args:\n",
        "    data_structure: The list or dictionary to access.\n",
        "    index_or_key: The index or key to use for access.\n",
        "\n",
        "  Returns:\n",
        "    The accessed element if successful,\n",
        "    otherwise an error message.\n",
        "  \"\"\"\n",
        "  try:\n",
        "    if isinstance(data_structure, list):\n",
        "      return data_structure[index_or_key]\n",
        "    elif isinstance(data_structure, dict):\n",
        "      return data_structure[index_or_key]\n",
        "    else:\n",
        "      return \"Error: Unsupported data structure.\"\n",
        "  except IndexError:\n",
        "    return f\"IndexError: Invalid index {index_or_key}\"\n",
        "  except KeyError:\n",
        "    return f\"KeyError: Key '{index_or_key}' not found.\"\n",
        "  except Exception as e:\n",
        "    return f\"An unexpected error occurred: {e}\"\n",
        "\n",
        "# Example usage:\n",
        "my_list = [1, 2, 3]\n",
        "my_dict = {'a': 1, 'b': 2}\n",
        "\n",
        "print(safe_access(my_list, 5))        # Output: IndexError: Invalid index 5\n",
        "print(safe_access(my_dict, 'c'))      # Output: KeyError: Key 'c' not found\n",
        "print(safe_access(my_list, 1))        # Output: 2\n",
        "print(safe_access(my_dict, 'a'))      # Output: 1\n",
        "print(safe_access(\"not a list or dict\", 0))  # Output: Error: Unsupported data structure."
      ],
      "metadata": {
        "id": "W7EewN2GXYxn",
        "colab": {
          "base_uri": "https://localhost:8080/"
        },
        "outputId": "91bd8edd-14a5-431c-d2e2-576d9a2fad08"
      },
      "execution_count": 26,
      "outputs": [
        {
          "output_type": "stream",
          "name": "stdout",
          "text": [
            "IndexError: Invalid index 5\n",
            "KeyError: Key 'c' not found.\n",
            "2\n",
            "1\n",
            "Error: Unsupported data structure.\n"
          ]
        }
      ]
    },
    {
      "cell_type": "code",
      "source": [
        "# 19. How would you open a file and read its contents using a context manager in Python\n",
        "def read_file_with_context_manager(filename):\n",
        "  \"\"\"\n",
        "  Reads the contents of a file using a context manager.\n",
        "\n",
        "  Args:\n",
        "    filename: The name of the file to read.\n",
        "\n",
        "  Returns:\n",
        "    The contents of the file as a string, or None if an error occurs.\n",
        "  \"\"\"\n",
        "  try:\n",
        "    with open(filename, 'r') as file:\n",
        "      return file.read()\n",
        "  except FileNotFoundError:\n",
        "    print(f\"Error: File '{filename}' not found.\")\n",
        "    return None\n",
        "  except IOError as e:\n",
        "    print(f\"Error reading file: {e}\")\n",
        "    return None\n",
        "\n",
        "# Example usage:\n",
        "filename = \"example.txt\"\n",
        "file_contents = read_file_with_context_manager(filename)\n",
        "\n",
        "if file_contents:\n",
        "  print(file_contents)"
      ],
      "metadata": {
        "id": "hZzJJA0kXbg-",
        "colab": {
          "base_uri": "https://localhost:8080/"
        },
        "outputId": "079d10d8-7898-4add-f71d-d4421ea10661"
      },
      "execution_count": 28,
      "outputs": [
        {
          "output_type": "stream",
          "name": "stdout",
          "text": [
            "Hello, this is a test string!This is new data.\n",
            "\n"
          ]
        }
      ]
    },
    {
      "cell_type": "code",
      "source": [
        "# 20. Write a Python program that reads a file and prints the number of occurrences of a specific word\n",
        "def count_word_occurrences(filename, word):\n",
        "  \"\"\"\n",
        "  Counts the number of occurrences of a specific word in a file.\n",
        "\n",
        "  Args:\n",
        "    filename: The name of the file to read.\n",
        "    word: The word to count.\n",
        "\n",
        "  Returns:\n",
        "    The number of occurrences of the word in the file.\n",
        "  \"\"\"\n",
        "  count = 0\n",
        "  with open(filename, 'r') as file:\n",
        "    for line in file:\n",
        "      words = line.lower().split()  # Convert to lowercase and split into words\n",
        "      count += words.count(word.lower())  # Count occurrences of the word in each line\n",
        "  return count\n",
        "\n",
        "# Example usage\n",
        "filename = \"example.txt\"  # Replace with the actual filename\n",
        "word_to_count = \"the\"  # Replace with the word you want to count\n",
        "\n",
        "occurrences = count_word_occurrences(filename, word_to_count)\n",
        "print(f\"The word '{word_to_count}' occurs {occurrences} times in '{filename}'.\")"
      ],
      "metadata": {
        "id": "qIF02Mq4XfkX",
        "colab": {
          "base_uri": "https://localhost:8080/"
        },
        "outputId": "9f1fad5e-997d-41de-ccde-59a99d22e6d4"
      },
      "execution_count": 30,
      "outputs": [
        {
          "output_type": "stream",
          "name": "stdout",
          "text": [
            "The word 'the' occurs 0 times in 'example.txt'.\n"
          ]
        }
      ]
    },
    {
      "cell_type": "code",
      "source": [
        "# 21. How can you check if a file is empty before attempting to read its contents\n",
        "import os\n",
        "\n",
        "def read_file_if_not_empty(filename):\n",
        "  \"\"\"\n",
        "  Reads the contents of a file if it's not empty.\n",
        "\n",
        "  Args:\n",
        "    filename: The name of the file to read.\n",
        "\n",
        "  Returns:\n",
        "    The contents of the file as a string if the file is not empty,\n",
        "    otherwise None.\n",
        "  \"\"\"\n",
        "  try:\n",
        "    if os.path.getsize(filename) > 0:\n",
        "      with open(filename, 'r') as file:\n",
        "        return file.read()\n",
        "    else:\n",
        "      print(f\"File '{filename}' is empty.\")\n",
        "      return None\n",
        "  except FileNotFoundError:\n",
        "    print(f\"Error: File '{filename}' not found.\")\n",
        "    return None\n",
        "  except IOError as e:\n",
        "    print(f\"Error reading file: {e}\")\n",
        "    return None\n",
        "\n",
        "# Example usage:\n",
        "filename = \"my_file.txt\"\n",
        "file_contents = read_file_if_not_empty(filename)\n",
        "\n",
        "if file_contents:\n",
        "  print(file_contents)"
      ],
      "metadata": {
        "id": "yCMt4_L0XkD4",
        "colab": {
          "base_uri": "https://localhost:8080/"
        },
        "outputId": "f5299c17-4441-4fff-8348-b22f84d9adc1"
      },
      "execution_count": 31,
      "outputs": [
        {
          "output_type": "stream",
          "name": "stdout",
          "text": [
            "Error: File 'my_file.txt' not found.\n"
          ]
        }
      ]
    },
    {
      "cell_type": "code",
      "source": [
        "# 22. Write a Python program that writes to a log file when an error occurs during file handling\n",
        "import logging\n",
        "\n",
        "def write_to_file(filename, data):\n",
        "  \"\"\"\n",
        "  Writes data to a file and logs any errors.\n",
        "\n",
        "  Args:\n",
        "    filename: The name of the file to write to.\n",
        "    data: The data to be written to the file.\n",
        "  \"\"\"\n",
        "  logger = logging.getLogger(__name__)\n",
        "  try:\n",
        "    with open(filename, 'w') as file:\n",
        "      file.write(data)\n",
        "    logger.info(f\"Successfully wrote data to '{filename}'\")\n",
        "  except IOError as e:\n",
        "    logger.error(f\"I/O error occurred while writing to '{filename}': {e}\")\n",
        "\n",
        "# Configure logging\n",
        "logging.basicConfig(filename='app.log', level=logging.INFO,\n",
        "                    format='%(asctime)s - %(levelname)s - %(message)s')\n",
        "\n",
        "# Example usage\n",
        "data_to_write = \"This is some sample data.\"\n",
        "filename = \"output.txt\"\n",
        "write_to_file(filename, data_to_write)"
      ],
      "metadata": {
        "id": "KY-am0RjXoqx",
        "colab": {
          "base_uri": "https://localhost:8080/"
        },
        "outputId": "c5453319-c0fe-4323-83cb-f27f1c14285d"
      },
      "execution_count": 32,
      "outputs": [
        {
          "output_type": "stream",
          "name": "stderr",
          "text": [
            "INFO:__main__:Successfully wrote data to 'output.txt'\n"
          ]
        }
      ]
    }
  ]
}